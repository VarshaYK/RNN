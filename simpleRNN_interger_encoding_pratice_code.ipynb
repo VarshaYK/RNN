{
  "nbformat": 4,
  "nbformat_minor": 0,
  "metadata": {
    "colab": {
      "provenance": []
    },
    "kernelspec": {
      "name": "python3",
      "display_name": "Python 3"
    },
    "language_info": {
      "name": "python"
    }
  },
  "cells": [
    {
      "cell_type": "code",
      "execution_count": 11,
      "metadata": {
        "id": "UUfaC4biilt-"
      },
      "outputs": [],
      "source": [
        "import numpy as np\n",
        "from keras.preprocessing.text import Tokenizer\n",
        "from keras.utils import pad_sequences\n",
        "from keras.datasets import imdb\n",
        "from keras import Sequential\n",
        "from keras.layers import Dense,SimpleRNN,Embedding,Flatten"
      ]
    },
    {
      "cell_type": "code",
      "source": [
        "docs = [\"Amazing product, exceeded my expectations!\",\n",
        "\"Quick service and friendly staff.\",\n",
        "\"Good quality, but a bit overpriced.\",\n",
        "\"The app is user-friendly and intuitive.\",\n",
        "\"Disappointed with the customer support.\",\n",
        "\"Beautiful design and easy to use.\",\n",
        "\"Delivery was fast and efficient.\",\n",
        "\"Not as described, poor quality.\",\n",
        "\"Great experience, will buy again.\",\n",
        "\"Fantastic value for the money.\"]"
      ],
      "metadata": {
        "id": "pwWD4sUEinr3"
      },
      "execution_count": 3,
      "outputs": []
    },
    {
      "cell_type": "code",
      "source": [
        "docs"
      ],
      "metadata": {
        "colab": {
          "base_uri": "https://localhost:8080/"
        },
        "id": "YCeaR9BUjzBy",
        "outputId": "eb2bfe9e-cd7c-46f2-d456-5c7447eb2aa9"
      },
      "execution_count": 4,
      "outputs": [
        {
          "output_type": "execute_result",
          "data": {
            "text/plain": [
              "['Amazing product, exceeded my expectations!',\n",
              " 'Quick service and friendly staff.',\n",
              " 'Good quality, but a bit overpriced.',\n",
              " 'The app is user-friendly and intuitive.',\n",
              " 'Disappointed with the customer support.',\n",
              " 'Beautiful design and easy to use.',\n",
              " 'Delivery was fast and efficient.',\n",
              " 'Not as described, poor quality.',\n",
              " 'Great experience, will buy again.',\n",
              " 'Fantastic value for the money.']"
            ]
          },
          "metadata": {},
          "execution_count": 4
        }
      ]
    },
    {
      "cell_type": "code",
      "source": [
        "## Split sentence into words\n",
        "tokenizer = Tokenizer(oov_token='<nothing>')\n",
        "tokenizer.fit_on_texts(docs)"
      ],
      "metadata": {
        "id": "c5mIzPEHjz3L"
      },
      "execution_count": 5,
      "outputs": []
    },
    {
      "cell_type": "code",
      "source": [
        "tokenizer.word_counts"
      ],
      "metadata": {
        "colab": {
          "base_uri": "https://localhost:8080/"
        },
        "id": "kySRiL8lj-8N",
        "outputId": "b555f73f-bef0-4fe8-e313-378380fa220b"
      },
      "execution_count": 6,
      "outputs": [
        {
          "output_type": "execute_result",
          "data": {
            "text/plain": [
              "OrderedDict([('amazing', 1),\n",
              "             ('product', 1),\n",
              "             ('exceeded', 1),\n",
              "             ('my', 1),\n",
              "             ('expectations', 1),\n",
              "             ('quick', 1),\n",
              "             ('service', 1),\n",
              "             ('and', 4),\n",
              "             ('friendly', 2),\n",
              "             ('staff', 1),\n",
              "             ('good', 1),\n",
              "             ('quality', 2),\n",
              "             ('but', 1),\n",
              "             ('a', 1),\n",
              "             ('bit', 1),\n",
              "             ('overpriced', 1),\n",
              "             ('the', 3),\n",
              "             ('app', 1),\n",
              "             ('is', 1),\n",
              "             ('user', 1),\n",
              "             ('intuitive', 1),\n",
              "             ('disappointed', 1),\n",
              "             ('with', 1),\n",
              "             ('customer', 1),\n",
              "             ('support', 1),\n",
              "             ('beautiful', 1),\n",
              "             ('design', 1),\n",
              "             ('easy', 1),\n",
              "             ('to', 1),\n",
              "             ('use', 1),\n",
              "             ('delivery', 1),\n",
              "             ('was', 1),\n",
              "             ('fast', 1),\n",
              "             ('efficient', 1),\n",
              "             ('not', 1),\n",
              "             ('as', 1),\n",
              "             ('described', 1),\n",
              "             ('poor', 1),\n",
              "             ('great', 1),\n",
              "             ('experience', 1),\n",
              "             ('will', 1),\n",
              "             ('buy', 1),\n",
              "             ('again', 1),\n",
              "             ('fantastic', 1),\n",
              "             ('value', 1),\n",
              "             ('for', 1),\n",
              "             ('money', 1)])"
            ]
          },
          "metadata": {},
          "execution_count": 6
        }
      ]
    },
    {
      "cell_type": "code",
      "source": [
        "tokenizer.word_index\n"
      ],
      "metadata": {
        "colab": {
          "base_uri": "https://localhost:8080/"
        },
        "id": "5QkjEUdakFC0",
        "outputId": "97a94185-4e97-4ac3-d811-4c29fc2bbeaf"
      },
      "execution_count": 7,
      "outputs": [
        {
          "output_type": "execute_result",
          "data": {
            "text/plain": [
              "{'<nothing>': 1,\n",
              " 'and': 2,\n",
              " 'the': 3,\n",
              " 'friendly': 4,\n",
              " 'quality': 5,\n",
              " 'amazing': 6,\n",
              " 'product': 7,\n",
              " 'exceeded': 8,\n",
              " 'my': 9,\n",
              " 'expectations': 10,\n",
              " 'quick': 11,\n",
              " 'service': 12,\n",
              " 'staff': 13,\n",
              " 'good': 14,\n",
              " 'but': 15,\n",
              " 'a': 16,\n",
              " 'bit': 17,\n",
              " 'overpriced': 18,\n",
              " 'app': 19,\n",
              " 'is': 20,\n",
              " 'user': 21,\n",
              " 'intuitive': 22,\n",
              " 'disappointed': 23,\n",
              " 'with': 24,\n",
              " 'customer': 25,\n",
              " 'support': 26,\n",
              " 'beautiful': 27,\n",
              " 'design': 28,\n",
              " 'easy': 29,\n",
              " 'to': 30,\n",
              " 'use': 31,\n",
              " 'delivery': 32,\n",
              " 'was': 33,\n",
              " 'fast': 34,\n",
              " 'efficient': 35,\n",
              " 'not': 36,\n",
              " 'as': 37,\n",
              " 'described': 38,\n",
              " 'poor': 39,\n",
              " 'great': 40,\n",
              " 'experience': 41,\n",
              " 'will': 42,\n",
              " 'buy': 43,\n",
              " 'again': 44,\n",
              " 'fantastic': 45,\n",
              " 'value': 46,\n",
              " 'for': 47,\n",
              " 'money': 48}"
            ]
          },
          "metadata": {},
          "execution_count": 7
        }
      ]
    },
    {
      "cell_type": "code",
      "source": [
        "tokenizer.document_count"
      ],
      "metadata": {
        "colab": {
          "base_uri": "https://localhost:8080/"
        },
        "id": "2bNNqC_ZkN_0",
        "outputId": "6d5d00b6-4756-4ce4-f7b3-4ecfae91b4dc"
      },
      "execution_count": 8,
      "outputs": [
        {
          "output_type": "execute_result",
          "data": {
            "text/plain": [
              "10"
            ]
          },
          "metadata": {},
          "execution_count": 8
        }
      ]
    },
    {
      "cell_type": "code",
      "source": [
        "## text to vector\n",
        "sequences = tokenizer.texts_to_sequences(docs)"
      ],
      "metadata": {
        "id": "9czObtCbkS7U"
      },
      "execution_count": 9,
      "outputs": []
    },
    {
      "cell_type": "code",
      "source": [
        "## diffent sized squences\n",
        "sequences"
      ],
      "metadata": {
        "colab": {
          "base_uri": "https://localhost:8080/"
        },
        "id": "Il5JtJtUkZkc",
        "outputId": "094e7811-99a8-43b1-f0d9-1beca446f562"
      },
      "execution_count": 10,
      "outputs": [
        {
          "output_type": "execute_result",
          "data": {
            "text/plain": [
              "[[6, 7, 8, 9, 10],\n",
              " [11, 12, 2, 4, 13],\n",
              " [14, 5, 15, 16, 17, 18],\n",
              " [3, 19, 20, 21, 4, 2, 22],\n",
              " [23, 24, 3, 25, 26],\n",
              " [27, 28, 2, 29, 30, 31],\n",
              " [32, 33, 34, 2, 35],\n",
              " [36, 37, 38, 39, 5],\n",
              " [40, 41, 42, 43, 44],\n",
              " [45, 46, 47, 3, 48]]"
            ]
          },
          "metadata": {},
          "execution_count": 10
        }
      ]
    },
    {
      "cell_type": "code",
      "source": [
        "## Added Padding\n",
        "sequences = pad_sequences(sequences)"
      ],
      "metadata": {
        "id": "kdI2VCWwkazs"
      },
      "execution_count": 12,
      "outputs": []
    },
    {
      "cell_type": "code",
      "source": [
        "sequences"
      ],
      "metadata": {
        "colab": {
          "base_uri": "https://localhost:8080/"
        },
        "id": "XMJOkJu3ktpY",
        "outputId": "76fc60a0-cee5-4ae9-db38-221a4f7bfb2c"
      },
      "execution_count": 13,
      "outputs": [
        {
          "output_type": "execute_result",
          "data": {
            "text/plain": [
              "array([[ 0,  0,  6,  7,  8,  9, 10],\n",
              "       [ 0,  0, 11, 12,  2,  4, 13],\n",
              "       [ 0, 14,  5, 15, 16, 17, 18],\n",
              "       [ 3, 19, 20, 21,  4,  2, 22],\n",
              "       [ 0,  0, 23, 24,  3, 25, 26],\n",
              "       [ 0, 27, 28,  2, 29, 30, 31],\n",
              "       [ 0,  0, 32, 33, 34,  2, 35],\n",
              "       [ 0,  0, 36, 37, 38, 39,  5],\n",
              "       [ 0,  0, 40, 41, 42, 43, 44],\n",
              "       [ 0,  0, 45, 46, 47,  3, 48]], dtype=int32)"
            ]
          },
          "metadata": {},
          "execution_count": 13
        }
      ]
    },
    {
      "cell_type": "code",
      "source": [
        "## Loading IMDB dataset and split that data into train and test\n",
        "(X_train,y_train),(X_test,y_test) = imdb.load_data()"
      ],
      "metadata": {
        "colab": {
          "base_uri": "https://localhost:8080/"
        },
        "id": "-w6Ta8-Qkuks",
        "outputId": "33ad9aae-5cdc-496b-deb1-a3742ef11bd8"
      },
      "execution_count": 14,
      "outputs": [
        {
          "output_type": "stream",
          "name": "stdout",
          "text": [
            "Downloading data from https://storage.googleapis.com/tensorflow/tf-keras-datasets/imdb.npz\n",
            "17464789/17464789 [==============================] - 0s 0us/step\n"
          ]
        }
      ]
    },
    {
      "cell_type": "code",
      "source": [
        "len(X_train[2])"
      ],
      "metadata": {
        "colab": {
          "base_uri": "https://localhost:8080/"
        },
        "id": "ktN1B2RblFYS",
        "outputId": "7c9566fd-c0d4-4b20-a4b7-a0558f094162"
      },
      "execution_count": 15,
      "outputs": [
        {
          "output_type": "execute_result",
          "data": {
            "text/plain": [
              "141"
            ]
          },
          "metadata": {},
          "execution_count": 15
        }
      ]
    },
    {
      "cell_type": "code",
      "source": [
        "len(X_train[4])"
      ],
      "metadata": {
        "colab": {
          "base_uri": "https://localhost:8080/"
        },
        "id": "G58IyKFSlOT9",
        "outputId": "870ce297-7686-4444-94a0-7f305ff77b9b"
      },
      "execution_count": 16,
      "outputs": [
        {
          "output_type": "execute_result",
          "data": {
            "text/plain": [
              "147"
            ]
          },
          "metadata": {},
          "execution_count": 16
        }
      ]
    },
    {
      "cell_type": "code",
      "source": [
        "## Trimming each and every review upto only 50 words, to avoid computational time\n",
        "X_train = pad_sequences(X_train,padding='post',maxlen=50)\n",
        "X_test = pad_sequences(X_test,padding='post',maxlen=50)"
      ],
      "metadata": {
        "id": "9tTl5wPElPWE"
      },
      "execution_count": 17,
      "outputs": []
    },
    {
      "cell_type": "code",
      "source": [
        "X_train[0]"
      ],
      "metadata": {
        "colab": {
          "base_uri": "https://localhost:8080/"
        },
        "id": "9xB8EWX3lUWc",
        "outputId": "5e78c8cd-ba18-4d4f-ae82-8a2388062693"
      },
      "execution_count": 18,
      "outputs": [
        {
          "output_type": "execute_result",
          "data": {
            "text/plain": [
              "array([2071,   56,   26,  141,    6,  194, 7486,   18,    4,  226,   22,\n",
              "         21,  134,  476,   26,  480,    5,  144,   30, 5535,   18,   51,\n",
              "         36,   28,  224,   92,   25,  104,    4,  226,   65,   16,   38,\n",
              "       1334,   88,   12,   16,  283,    5,   16, 4472,  113,  103,   32,\n",
              "         15,   16, 5345,   19,  178,   32], dtype=int32)"
            ]
          },
          "metadata": {},
          "execution_count": 18
        }
      ]
    },
    {
      "cell_type": "code",
      "source": [
        "len(X_train[0])"
      ],
      "metadata": {
        "colab": {
          "base_uri": "https://localhost:8080/"
        },
        "id": "8RZDN-oSlV5y",
        "outputId": "1b9afb7c-79c8-47ba-b667-13a2d3e49f66"
      },
      "execution_count": 19,
      "outputs": [
        {
          "output_type": "execute_result",
          "data": {
            "text/plain": [
              "50"
            ]
          },
          "metadata": {},
          "execution_count": 19
        }
      ]
    },
    {
      "cell_type": "code",
      "source": [
        "len(X_train[9])"
      ],
      "metadata": {
        "colab": {
          "base_uri": "https://localhost:8080/"
        },
        "id": "6EGLP3mflXXD",
        "outputId": "7ec9e018-8b3f-4829-df7d-7a7a7b0ccf6a"
      },
      "execution_count": 20,
      "outputs": [
        {
          "output_type": "execute_result",
          "data": {
            "text/plain": [
              "50"
            ]
          },
          "metadata": {},
          "execution_count": 20
        }
      ]
    },
    {
      "cell_type": "code",
      "source": [
        "model = Sequential()\n",
        "\n",
        "model.add(SimpleRNN(32,input_shape=(50,1),return_sequences=False))\n",
        "model.add(Dense(1,activation='sigmoid'))\n",
        "\n",
        "model.summary()"
      ],
      "metadata": {
        "colab": {
          "base_uri": "https://localhost:8080/"
        },
        "id": "ZrDQvdOtlZv0",
        "outputId": "546ae86d-d158-4849-a893-72c00f9d5bac"
      },
      "execution_count": 21,
      "outputs": [
        {
          "output_type": "stream",
          "name": "stdout",
          "text": [
            "Model: \"sequential\"\n",
            "_________________________________________________________________\n",
            " Layer (type)                Output Shape              Param #   \n",
            "=================================================================\n",
            " simple_rnn (SimpleRNN)      (None, 32)                1088      \n",
            "                                                                 \n",
            " dense (Dense)               (None, 1)                 33        \n",
            "                                                                 \n",
            "=================================================================\n",
            "Total params: 1121 (4.38 KB)\n",
            "Trainable params: 1121 (4.38 KB)\n",
            "Non-trainable params: 0 (0.00 Byte)\n",
            "_________________________________________________________________\n"
          ]
        }
      ]
    },
    {
      "cell_type": "code",
      "source": [
        "model.compile(loss='binary_crossentropy',optimizer='adam',metrics=['accuracy'])\n",
        "\n",
        "model.fit(X_train,y_train,epochs=10,validation_data=(X_test,y_test))"
      ],
      "metadata": {
        "colab": {
          "base_uri": "https://localhost:8080/"
        },
        "id": "0JBMBkGSlf-8",
        "outputId": "1a33c96d-34e5-4a8a-89a0-0bfcb01a98dc"
      },
      "execution_count": 22,
      "outputs": [
        {
          "output_type": "stream",
          "name": "stdout",
          "text": [
            "Epoch 1/10\n",
            "782/782 [==============================] - 15s 17ms/step - loss: 0.6989 - accuracy: 0.5057 - val_loss: 0.6957 - val_accuracy: 0.5026\n",
            "Epoch 2/10\n",
            "782/782 [==============================] - 14s 17ms/step - loss: 0.6930 - accuracy: 0.5094 - val_loss: 0.6953 - val_accuracy: 0.5027\n",
            "Epoch 3/10\n",
            "782/782 [==============================] - 10s 12ms/step - loss: 0.6932 - accuracy: 0.5045 - val_loss: 0.6932 - val_accuracy: 0.5067\n",
            "Epoch 4/10\n",
            "782/782 [==============================] - 11s 14ms/step - loss: 0.6929 - accuracy: 0.5072 - val_loss: 0.6957 - val_accuracy: 0.5017\n",
            "Epoch 5/10\n",
            "782/782 [==============================] - 11s 14ms/step - loss: 0.6928 - accuracy: 0.5072 - val_loss: 0.6944 - val_accuracy: 0.5022\n",
            "Epoch 6/10\n",
            "782/782 [==============================] - 11s 14ms/step - loss: 0.6931 - accuracy: 0.5063 - val_loss: 0.6950 - val_accuracy: 0.5061\n",
            "Epoch 7/10\n",
            "782/782 [==============================] - 13s 16ms/step - loss: 0.6926 - accuracy: 0.5116 - val_loss: 0.6942 - val_accuracy: 0.5068\n",
            "Epoch 8/10\n",
            "782/782 [==============================] - 13s 17ms/step - loss: 0.6927 - accuracy: 0.5021 - val_loss: 0.6939 - val_accuracy: 0.5056\n",
            "Epoch 9/10\n",
            "782/782 [==============================] - 10s 12ms/step - loss: 0.6930 - accuracy: 0.5085 - val_loss: 0.6945 - val_accuracy: 0.5080\n",
            "Epoch 10/10\n",
            "782/782 [==============================] - 11s 14ms/step - loss: 0.6924 - accuracy: 0.5069 - val_loss: 0.6944 - val_accuracy: 0.5030\n"
          ]
        },
        {
          "output_type": "execute_result",
          "data": {
            "text/plain": [
              "<keras.src.callbacks.History at 0x7b357ff0d1b0>"
            ]
          },
          "metadata": {},
          "execution_count": 22
        }
      ]
    },
    {
      "cell_type": "code",
      "source": [],
      "metadata": {
        "id": "fIahMyGQlnjk"
      },
      "execution_count": null,
      "outputs": []
    }
  ]
}